{
 "cells": [
  {
   "cell_type": "markdown",
   "id": "133bafd4-8d5d-4b3e-a597-6bf1218c59a9",
   "metadata": {},
   "source": [
    "## Creating the dataset for WavePaint training"
   ]
  },
  {
   "cell_type": "code",
   "execution_count": 1,
   "id": "e584f003-4292-4146-8c5f-c74629531fda",
   "metadata": {},
   "outputs": [],
   "source": [
    "import numpy as np\n",
    "import matplotlib.pyplot as plt\n",
    "import random\n",
    "import os\n",
    "import os.path as osp\n",
    "from tqdm import tqdm\n",
    "import cv2\n",
    "from PIL import Image\n",
    "import albumentations as A"
   ]
  },
  {
   "cell_type": "code",
   "execution_count": 2,
   "id": "eb4c50c4-edee-42df-9281-73bd875f2b02",
   "metadata": {},
   "outputs": [],
   "source": [
    "def reading_in_background_image(index, image_path, file_names) :\n",
    "    file_name = str(file_names[index])\n",
    "    background_image_path = osp.join(image_path, file_name)\n",
    "    background = Image.open(background_image_path)\n",
    "    return background"
   ]
  },
  {
   "cell_type": "code",
   "execution_count": 3,
   "id": "73a97078-64e3-4f22-bfeb-6c7d3b7bee5d",
   "metadata": {},
   "outputs": [],
   "source": [
    "def get_resized_background_transform(image_width, image_height):\n",
    "    return A.Compose([\n",
    "        A.RandomCrop(p=1, height=image_height, width=image_width)\n",
    "    ])"
   ]
  },
  {
   "cell_type": "code",
   "execution_count": 4,
   "id": "ece70f31-229e-4286-834f-24294d768e19",
   "metadata": {},
   "outputs": [],
   "source": [
    "def show_image_with_bounding_box (xcentre, ycentre, width, heigth):\n",
    "\n",
    "    xmin = xcentre - width/2\n",
    "    ymin = ycentre - heigth/2\n",
    "    xmax = xcentre + width/2\n",
    "    ymax = ycentre + heigth/2\n",
    "\n",
    "    plt.plot([xmin, xmin], [ymin, ymax], '-', color = 'red' ) # Left edge\n",
    "    plt.plot([xmax, xmax], [ymin, ymax], '-', color = 'red') # Right edge\n",
    "    plt.plot([xmin, xmax], [ymin, ymin], '-', color = 'red') # Top edge\n",
    "    plt.plot([xmin, xmax], [ymax, ymax], '-', color = 'red') # Bottom edge"
   ]
  },
  {
   "cell_type": "code",
   "execution_count": 5,
   "id": "4c944cba-7649-4c3b-960e-c6cbb00bf9bb",
   "metadata": {},
   "outputs": [],
   "source": [
    "bg_train_path = \"../datasets/OpenImages_data_example/train\"\n",
    "bg_train_images = os.listdir(bg_train_path)\n",
    "\n",
    "bg_val_path = \"../datasets/OpenImages_data_example/val\"\n",
    "bg_val_images = os.listdir(bg_val_path)\n",
    "\n",
    "\n",
    "path = '../datasets/making_WavePaint_data'\n",
    "\n",
    "if not os.path.exists(path):\n",
    "    os.makedirs(path)\n",
    "\n",
    "# Path for every model images\n",
    "images_path_per_model = os.path.join(path, \"images\")\n",
    "if not os.path.exists(images_path_per_model):\n",
    "    os.makedirs(images_path_per_model)\n",
    "\n",
    "train_path = os.path.join(images_path_per_model, \"train\")\n",
    "if not os.path.exists(train_path):\n",
    "    os.makedirs(train_path)\n",
    "test_path = os.path.join(images_path_per_model, \"val\")\n",
    "if not os.path.exists(test_path):\n",
    "    os.makedirs(test_path)\n"
   ]
  },
  {
   "cell_type": "markdown",
   "id": "84803de8-c858-4757-8968-4458b4d14ef7",
   "metadata": {},
   "source": [
    "## Train"
   ]
  },
  {
   "cell_type": "code",
   "execution_count": 6,
   "id": "e12c8561-57a3-4f9c-aa4a-ddd0514948b0",
   "metadata": {},
   "outputs": [
    {
     "name": "stderr",
     "output_type": "stream",
     "text": [
      "100%|███████████████████████████████████████████| 24/24 [00:00<00:00, 43.84it/s]\n"
     ]
    }
   ],
   "source": [
    "id_length = 6\n",
    "nr_of_train = 24\n",
    "image_w_h = 256\n",
    "\n",
    "for i in tqdm(range(nr_of_train)):\n",
    "\n",
    "    background_image = reading_in_background_image(i, bg_train_path, bg_train_images)\n",
    "    resizing_image = get_resized_background_transform(image_w_h, image_w_h)\n",
    "    background_resized = resizing_image(image=np.array(background_image))\n",
    "    background_image = Image.fromarray(np.uint8(background_resized['image'])).convert('RGB')\n",
    "\n",
    "     # Generate file name\n",
    "    image_id = '0' * (id_length - len(str(i))) + str(i)\n",
    "\n",
    "    # Save image\n",
    "    image_path = os.path.join(path, '{}/{}/{}.png'.format('images', 'train', image_id))\n",
    "    background_image.save(image_path, format='png')\n",
    "\n",
    "    \n",
    "    # Generating mask\n",
    "    mask = np.zeros((image_w_h, image_w_h))\n",
    "    # Randomly generating bbox\n",
    "    box_width_ratio = random.uniform(0.3, 0.6)\n",
    "    box_height_ratio = random.uniform(0.65, 0.85)\n",
    "    box_width = int(image_w_h * box_width_ratio)\n",
    "    box_height = int(image_w_h * box_height_ratio)\n",
    "    start_x = int((image_w_h - box_width) / 2)\n",
    "    start_y = int((image_w_h - box_height) / 2)\n",
    "    mask[start_y:start_y + box_height, start_x:start_x + box_width] = 1\n",
    "    mask = mask * 255\n",
    "\n",
    "    # Saving a mask\n",
    "    mask_path = os.path.join(path, '{}/{}/{}_mask000.png'.format('images', 'train', image_id))\n",
    "    mask_image = Image.fromarray(np.uint8(mask)).convert('L')\n",
    "    mask_image.save(mask_path, format='png')\n",
    "\n",
    "    "
   ]
  },
  {
   "cell_type": "markdown",
   "id": "e863fde2-43fe-4ec2-9622-2e929936f800",
   "metadata": {},
   "source": [
    "## Val"
   ]
  },
  {
   "cell_type": "code",
   "execution_count": 7,
   "id": "4f8ec9bf-2293-41d4-beee-bea672702883",
   "metadata": {},
   "outputs": [
    {
     "name": "stderr",
     "output_type": "stream",
     "text": [
      "100%|███████████████████████████████████████████| 12/12 [00:00<00:00, 44.79it/s]\n"
     ]
    }
   ],
   "source": [
    "\n",
    "id_length = 6\n",
    "nr_of_val = 12\n",
    "image_w_h = 256\n",
    "\n",
    "for i in tqdm(range(nr_of_val)):\n",
    "\n",
    "    background_image = reading_in_background_image(i, bg_val_path, bg_val_images)\n",
    "    resizing_image = get_resized_background_transform(image_w_h, image_w_h)\n",
    "    background_resized = resizing_image(image=np.array(background_image))\n",
    "    background_image = Image.fromarray(np.uint8(background_resized['image'])).convert('RGB')\n",
    "\n",
    "     # Generate file name\n",
    "    image_id = '0' * (id_length - len(str(i))) + str(i)\n",
    "\n",
    "    # Save image\n",
    "    image_path = os.path.join(path, '{}/{}/{}.png'.format('images', 'val', image_id))\n",
    "    background_image.save(image_path, format='png')\n",
    "\n",
    "    \n",
    "    # Generating mask\n",
    "    mask = np.zeros((image_w_h, image_w_h))\n",
    "    # Randomly generating bbox\n",
    "    box_width_ratio = random.uniform(0.3, 0.6)\n",
    "    box_height_ratio = random.uniform(0.65, 0.85)\n",
    "    box_width = int(image_w_h * box_width_ratio)\n",
    "    box_height = int(image_w_h * box_height_ratio)\n",
    "    start_x = int((image_w_h - box_width) / 2)\n",
    "    start_y = int((image_w_h - box_height) / 2)\n",
    "    mask[start_y:start_y + box_height, start_x:start_x + box_width] = 1\n",
    "    mask = mask * 255\n",
    "\n",
    "    # Saving a mask\n",
    "    mask_path = os.path.join(path, '{}/{}/{}_mask000.png'.format('images', 'val', image_id))\n",
    "    mask_image = Image.fromarray(np.uint8(mask)).convert('L')\n",
    "    mask_image.save(mask_path, format='png')\n"
   ]
  },
  {
   "cell_type": "code",
   "execution_count": null,
   "id": "856cec44-67d9-438a-a369-04d5a2436d12",
   "metadata": {},
   "outputs": [],
   "source": []
  }
 ],
 "metadata": {
  "kernelspec": {
   "display_name": "Python 3 (ipykernel)",
   "language": "python",
   "name": "python3"
  },
  "language_info": {
   "codemirror_mode": {
    "name": "ipython",
    "version": 3
   },
   "file_extension": ".py",
   "mimetype": "text/x-python",
   "name": "python",
   "nbconvert_exporter": "python",
   "pygments_lexer": "ipython3",
   "version": "3.11.2"
  }
 },
 "nbformat": 4,
 "nbformat_minor": 5
}
