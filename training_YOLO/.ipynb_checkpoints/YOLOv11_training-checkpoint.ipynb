{
 "cells": [
  {
   "cell_type": "code",
   "execution_count": null,
   "id": "aae39b36-1b98-4a61-a1c2-87f74e54bf62",
   "metadata": {},
   "outputs": [],
   "source": [
    "from ultralytics import YOLO\n",
    "\n",
    "model = YOLO('/home/ahabanen/clean_repo/training_YOLO/yolo11m.pt')  # If you want to start training from the begginning\n",
    "#model = YOLO('YOLO11m_e15_img1920_oneClass.pt') # Continue training the achived model\n",
    "\n",
    "# Train the model\n",
    "model.train(data='/home/ahabanen/clean_repo/datasets/YOLO_training_data_example/data.yaml', \n",
    "            name=\"yolo11m_training\",\n",
    "            imgsz=1920,\n",
    "            epochs=15, \n",
    "            batch=4,\n",
    "            max_det=10,\n",
    "            flipud=0.0,\n",
    "            fliplr=0.0,\n",
    "            patience=10,\n",
    "           )"
   ]
  },
  {
   "cell_type": "code",
   "execution_count": null,
   "id": "e2832d31-1964-4104-87fe-998951514e48",
   "metadata": {
    "scrolled": true
   },
   "outputs": [],
   "source": []
  }
 ],
 "metadata": {
  "kernelspec": {
   "display_name": "Python 3 (ipykernel)",
   "language": "python",
   "name": "python3"
  },
  "language_info": {
   "codemirror_mode": {
    "name": "ipython",
    "version": 3
   },
   "file_extension": ".py",
   "mimetype": "text/x-python",
   "name": "python",
   "nbconvert_exporter": "python",
   "pygments_lexer": "ipython3",
   "version": "3.11.2"
  }
 },
 "nbformat": 4,
 "nbformat_minor": 5
}
